{
 "cells": [
  {
   "cell_type": "markdown",
   "metadata": {},
   "source": [
    "Сбор отзывов с Флампа. Запись отзывов в data/places.csv и data/reviews.csv"
   ]
  },
  {
   "cell_type": "code",
   "execution_count": 1,
   "metadata": {},
   "outputs": [],
   "source": [
    "import requests\n",
    "import os\n",
    "from dotenv import load_dotenv\n",
    "import pandas as pd\n",
    "\n",
    "# загружаем env-файл с ключами\n",
    "load_dotenv() \n",
    "\n",
    "# урлы для сбора мест и отзывов\n",
    "url_places = 'https://flamp.ru/api/2.0/filials/?project=moscow&limit=50&metarubric={metarubric}&nocache=true&page={page}' \\\n",
    "             '&fields=id,rating_decimal,lat,lon,name_primary,name_extension,address,city,basic_attributes'\n",
    "url_reviews = 'https://flamp.ru/api/2.0/filials/{place_id}/reviews?limit=50&is_trusted=true{offset}'\n",
    "\n",
    "\n",
    "# хидеры\n",
    "headers = {\n",
    "    'X-Application': 'Flamp4',\n",
    "    'Origin': 'https://moscow.flamp.ru',\n",
    "    'Authorization': f'Bearer {os.getenv('FLAMP_KEY')}',\n",
    "    'Accept': ';q=1;depth=0;scopes={};application/json',\n",
    "    'Referer': 'https://moscow.flamp.ru/',\n",
    "    'Accept-Encoding': 'gzip, deflate, br'\n",
    "}"
   ]
  },
  {
   "cell_type": "code",
   "execution_count": 8,
   "metadata": {},
   "outputs": [],
   "source": [
    "def get_places_by_type(metarubric):\n",
    "    \"\"\"Получение мест из флампа с координатами типа metaubric\"\"\"\n",
    "    places = []\n",
    "    total = True\n",
    "    page = 1\n",
    "\n",
    "    while total != 0:\n",
    "        print(f'Страница {page}')\n",
    "\n",
    "        request = requests.get(url_places.format(page=page, metarubric=metarubric), headers=headers)\n",
    "        places.extend([{\n",
    "            'id': place['id'],\n",
    "            'name_primary': place['name_primary'],\n",
    "            'name_extension': place['name_extension'],\n",
    "            'city': place['city'],\n",
    "            'address': place['address'],\n",
    "            'lat': place['lat'],\n",
    "            'lon': place['lon'],\n",
    "            'rating_decimal': place['rating_decimal'],\n",
    "            'avg_price': place['basic_attributes']['avg_price'],\n",
    "        } for place in request.json()['filials']])\n",
    "\n",
    "        total = request.json()['meta']['total']\n",
    "        page += 1\n",
    "\n",
    "    return places"
   ]
  },
  {
   "cell_type": "code",
   "execution_count": 3,
   "metadata": {},
   "outputs": [],
   "source": [
    "def get_reviews(place_id):\n",
    "    \"\"\"Получение отзывов места по ID флампа\"\"\"\n",
    "    reviews = []\n",
    "    total = True\n",
    "    offset = ''\n",
    "\n",
    "    while total != 0:\n",
    "        request = requests.get(\n",
    "            url_reviews.format(place_id=place_id, offset=offset),\n",
    "            headers=headers).json()\n",
    "\n",
    "        if 'reviews' in request:\n",
    "            reviews.extend({\n",
    "                'id': review['id'],\n",
    "                'text': review['text'],\n",
    "                'rating': review['rating'],\n",
    "                'place_id': place_id # для привязки к месту\n",
    "            } for review in request['reviews'])\n",
    "\n",
    "        offset = '&offset_id=%s' % reviews[-1]['id'] if len(reviews) > 0 else ''\n",
    "        total = len(request['reviews'])\n",
    "\n",
    "    return reviews"
   ]
  },
  {
   "cell_type": "markdown",
   "metadata": {},
   "source": [
    "Загрузка датасета по всем типам заведений"
   ]
  },
  {
   "cell_type": "code",
   "execution_count": null,
   "metadata": {},
   "outputs": [],
   "source": [
    "metarubrics = ['restorany', 'bary', 'eda', 'kofejni', 'kafe', 'dostavka-edy', 'fastfud', 'sushi', 'nochnye-kluby']\n",
    "all_places = sum([get_places_by_type(metarubric=metaub) for metaub in metarubrics], [])\n",
    "all_places_df = pd.DataFrame(all_places)\n",
    "all_places_df.to_csv('data/places.csv', sep=';', index=False)"
   ]
  },
  {
   "cell_type": "markdown",
   "metadata": {},
   "source": [
    "Загрузка датасета по отзывам заведений из all_places"
   ]
  },
  {
   "cell_type": "code",
   "execution_count": null,
   "metadata": {},
   "outputs": [],
   "source": [
    "reviews = sum(map(get_reviews, all_places_df['id'].values), [])\n",
    "df = pd.DataFrame(reviews)\n",
    "df.to_csv('data/reviews.csv', sep=';', index=False)"
   ]
  }
 ],
 "metadata": {
  "kernelspec": {
   "display_name": "ml",
   "language": "python",
   "name": "python3"
  },
  "language_info": {
   "codemirror_mode": {
    "name": "ipython",
    "version": 3
   },
   "file_extension": ".py",
   "mimetype": "text/x-python",
   "name": "python",
   "nbconvert_exporter": "python",
   "pygments_lexer": "ipython3",
   "version": "3.12.3"
  }
 },
 "nbformat": 4,
 "nbformat_minor": 2
}
