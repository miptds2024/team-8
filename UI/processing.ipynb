{
 "cells": [
  {
   "cell_type": "markdown",
   "metadata": {},
   "source": [
    "### Реранкинг и визуализация"
   ]
  },
  {
   "cell_type": "code",
   "execution_count": null,
   "metadata": {},
   "outputs": [],
   "source": [
    "import re\n",
    "import spacy\n",
    "import folium\n",
    "\n",
    "from openai import OpenAI\n",
    "from yaml import safe_load\n",
    "from django.shortcuts import render\n",
    "from .forms import MeasurementModelForm\n",
    "from .utils import get_center_coordinates\n",
    "from sentence_transformers import CrossEncoder\n",
    "from langchain_community.vectorstores import Chroma\n",
    "from langchain_community.embeddings import SentenceTransformerEmbeddings"
   ]
  },
  {
   "cell_type": "markdown",
   "metadata": {},
   "source": [
    "Загружаем модель для русского языка `ru_core_news_sm`. Это предварительно обученная модель для обработки текста на русском языке, которая предоставляет различные возможности для анализа текста, такие как выделение сущностей (например, имен, дат), части речи, лемматизацию и т.д."
   ]
  },
  {
   "cell_type": "code",
   "execution_count": null,
   "metadata": {},
   "outputs": [],
   "source": [
    "nlp = spacy.load(\"ru_core_news_sm\")\n",
    "with open('geo.yml', 'r') as f:\n",
    "  data = safe_load(f)"
   ]
  },
  {
   "cell_type": "markdown",
   "metadata": {},
   "source": [
    "Устанавливаем количество заведений в выдаче."
   ]
  },
  {
   "cell_type": "code",
   "execution_count": null,
   "metadata": {},
   "outputs": [],
   "source": [
    "COUNT = 3"
   ]
  },
  {
   "cell_type": "markdown",
   "metadata": {},
   "source": [
    "Инициализируем компоненты системы для работы с векторами. Для реранкинга будем использовать `cross-encoder-russian-msmarco` — модель, которая используется для обработки текста на русском языке. Она была обучена на данных с поисковыми запросами и отзывами, что позволяет ей эффективно выполнять задачи, связанные с ранжированием текстов (например, сортировка отзывов по релевантности). Модель использует архитектуру cross-encoder, которая представляет собой двустороннюю нейронную сеть, принимающую пару текстов и оценивающую их взаимодействие, а не просто их представления."
   ]
  },
  {
   "cell_type": "code",
   "execution_count": null,
   "metadata": {},
   "outputs": [],
   "source": [
    "embedding_function = SentenceTransformerEmbeddings(\n",
    "    model_name=\"deepvk/USER-bge-m3\"\n",
    ")\n",
    "cross_model = CrossEncoder(\n",
    "    'cross-encoder-russian-msmarco', \n",
    "    max_length=512\n",
    ")\n",
    "db1 = Chroma(\n",
    "    persist_directory=\"./db/\", \n",
    "    embedding_function=embedding_function, \n",
    "    collection_name=\"review_flamp_yandex_v7_exploaded__USER-bge-m3\"\n",
    ")"
   ]
  },
  {
   "cell_type": "markdown",
   "metadata": {},
   "source": [
    "Инициализируем функцию для очистки текста. Будем использовать её, чтоб очистить запрос перед тем, как отправить на поиск в базе данных и для очистки текста на передачу в систему для генерации ответа через OpenAI API."
   ]
  },
  {
   "cell_type": "code",
   "execution_count": null,
   "metadata": {},
   "outputs": [],
   "source": [
    "def clean_text(text):\n",
    "  try:\n",
    "    text = text.lower() \n",
    "    text = re.sub(r\"[^\\w\\s\\n]\", \" \", text) \n",
    "    text = re.sub(r'[^а-яА-Яa-zA-Z]', ' ', text) \n",
    "\n",
    "    doc = nlp(text)\n",
    "    lemmas = [token.lemma_ for token in doc]\n",
    "    text = \" \".join(lemmas)\n",
    "\n",
    "    doc = nlp(text)\n",
    "    filtered_tokens = [token.text for token in doc if not token.is_stop]\n",
    "    text = \" \".join(filtered_tokens)\n",
    "\n",
    "  except:\n",
    "      text = \"\"\n",
    "\n",
    "  return text"
   ]
  },
  {
   "cell_type": "markdown",
   "metadata": {},
   "source": [
    "Инициализируем функцию, которая будет отвечать за взаимодействие с Chat GPT."
   ]
  },
  {
   "cell_type": "code",
   "execution_count": null,
   "metadata": {},
   "outputs": [],
   "source": [
    "def process_text(user_input, places):\n",
    "    system_prompt = f\"\"\" \n",
    "    Ты хочешь помочь клиенту найти наилучшее заведение. Система выбрала 3 ресторана по отзывам, разнообразь\n",
    "    ответ для клиента.\n",
    "    Если клиент не написал ничего, что относится к поиску ресторана или еде, то ответь '-'.\n",
    "    Ниже будут предоставлены отзывы о заведениях и запрос от клиента.\n",
    "    - Коротко напиши интересный факт или шутку  том, что ищет клиент.\n",
    "    - Коротко напиши обзор о заведениях на основе отзывов.\n",
    "    Заведения начинаются с 'Название'.\n",
    "    Если клиент не написал ничего, что относится к поиску ресторана или еде, то ответь '-'.\n",
    "    Отзывы: {places}\n",
    "    \"\"\" \n",
    "\n",
    "    client = OpenAI(\n",
    "    api_key=data[\"PROXY_API_KEY\"],\n",
    "    base_url=data[\"PROXY_API_URL\"],\n",
    ")\n",
    "    completion = client.chat.completions.create(\n",
    "        model=\"gpt-4o-mini\",  \n",
    "        messages=[\n",
    "            {\"role\": \"system\", \"content\": system_prompt},\n",
    "            {\"role\": \"user\", \"content\": user_input},\n",
    "        ],\n",
    "        max_tokens=300, \n",
    "        temperature=0.3, \n",
    "    )\n",
    "    response = completion.choices[0].message\n",
    "    answer = response.content\n",
    "    return answer"
   ]
  },
  {
   "cell_type": "markdown",
   "metadata": {},
   "source": [
    "Инициализируем функцию обработки запросов, которая выполняет следуюшие действия:\n",
    "- Получает запрос пользователя и ищет релевантные заведения.\n",
    "- Пересортировывает результаты с помощью модели.\n",
    "- Отображает результаты на карте с маркерами.\n",
    "- Генерирует ответ на основе отзывов о заведениях и выводит его пользователю."
   ]
  },
  {
   "cell_type": "code",
   "execution_count": null,
   "metadata": {},
   "outputs": [],
   "source": [
    "def process_query(request):\n",
    "    form = MeasurementModelForm(request.POST or None)\n",
    "    \n",
    "    # координаты центра Москвы\n",
    "    # TODO определение координат пользователя\n",
    "    location_lat, location_lon = (55.751477, 37.619003)\n",
    "    #инициируем карту    \n",
    "    m = folium.Map(\n",
    "        location=get_center_coordinates(location_lat, location_lon), \n",
    "        zoom_start=10\n",
    "    )\n",
    "    output = \"Интересный факт\"\n",
    "\n",
    "    if form.is_valid():\n",
    "        query = form.cleaned_data.get('destination')\n",
    "        # 1-й шаг. Поиск с использованием биэнкодера\n",
    "        docs1 = db1.similarity_search_with_relevance_scores(clean_text(query), k=10)\n",
    "        # 2-й шаг. Реранкинг\n",
    "        scores = cross_model.predict(\n",
    "            [(f\"{query} - хороший отзыв\", doc[0].metadata[\"review\"]) for doc in docs1]) \n",
    "        for i in range(len(scores)):\n",
    "            docs1[i] = (*docs1[i], scores[i])\n",
    "        # Пересортируем результаты, с учетом данных от реранкера\n",
    "        docs = sorted(docs1, key=lambda p: p[2], reverse=True)\n",
    "        k=0\n",
    "        places = \"\"\n",
    "        names = []\n",
    "        for d in docs:\n",
    "            if k == COUNT:\n",
    "                break\n",
    "            marker = folium.Marker(\n",
    "                location=[d[0].metadata[\"lat\"], d[0].metadata[\"lon\"]],\n",
    "                tooltip=f'{d[0].metadata[\"name\"]} {d[0].metadata[\"rating\"]}',\n",
    "                popup=d[0].page_content,\n",
    "                icon=folium.Icon(color='red', icon='cloud')\n",
    "            )\n",
    "            marker.add_to(m)\n",
    "            places+=f\"Название {d[0].metadata['name']}. Отзыв {d[0].metadata['review']} \\n\"\n",
    "            if not d[0].metadata[\"name\"] in names:\n",
    "                names.append(d[0].metadata[\"name\"])\n",
    "                k+=1\n",
    "        output = process_text(query, places)\n",
    "    \n",
    "    #рендерим карту в html\n",
    "    m = m._repr_html_()\n",
    "    \n",
    "    # TODO определение расстояния от пользователя до найденных точек\n",
    "    context = {\n",
    "        'distance': 0,\n",
    "        'destination': 0,\n",
    "        'form': form,\n",
    "        'map':m,\n",
    "        'text': output\n",
    "    }\n",
    "    \n",
    "    return render(request, 'measurements/main.html', context)"
   ]
  }
 ],
 "metadata": {
  "language_info": {
   "name": "python"
  }
 },
 "nbformat": 4,
 "nbformat_minor": 2
}
